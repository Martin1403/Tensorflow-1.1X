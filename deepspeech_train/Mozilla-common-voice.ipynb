{
 "cells": [
  {
   "cell_type": "code",
   "execution_count": 1,
   "id": "fa0202a9",
   "metadata": {
    "scrolled": false
   },
   "outputs": [
    {
     "data": {
      "text/html": [
       "<div>\n",
       "<style scoped>\n",
       "    .dataframe tbody tr th:only-of-type {\n",
       "        vertical-align: middle;\n",
       "    }\n",
       "\n",
       "    .dataframe tbody tr th {\n",
       "        vertical-align: top;\n",
       "    }\n",
       "\n",
       "    .dataframe thead th {\n",
       "        text-align: right;\n",
       "    }\n",
       "</style>\n",
       "<table border=\"1\" class=\"dataframe\">\n",
       "  <thead>\n",
       "    <tr style=\"text-align: right;\">\n",
       "      <th></th>\n",
       "      <th>client_id</th>\n",
       "      <th>path</th>\n",
       "      <th>sentence</th>\n",
       "      <th>up_votes</th>\n",
       "      <th>down_votes</th>\n",
       "      <th>age</th>\n",
       "      <th>gender</th>\n",
       "      <th>accents</th>\n",
       "      <th>locale</th>\n",
       "      <th>segment</th>\n",
       "    </tr>\n",
       "  </thead>\n",
       "  <tbody>\n",
       "    <tr>\n",
       "      <th>0</th>\n",
       "      <td>35722a754ae8192dcbcd7ba3640efab6dff0c3d13ef03e...</td>\n",
       "      <td>common_voice_en_28322365.mp3</td>\n",
       "      <td>Feeling threatened by these actions, the Moros...</td>\n",
       "      <td>2</td>\n",
       "      <td>0</td>\n",
       "      <td>NaN</td>\n",
       "      <td>NaN</td>\n",
       "      <td>NaN</td>\n",
       "      <td>en</td>\n",
       "      <td>NaN</td>\n",
       "    </tr>\n",
       "    <tr>\n",
       "      <th>1</th>\n",
       "      <td>35722a754ae8192dcbcd7ba3640efab6dff0c3d13ef03e...</td>\n",
       "      <td>common_voice_en_28322367.mp3</td>\n",
       "      <td>King, Big Joe Williams, and Ace Atkins.</td>\n",
       "      <td>2</td>\n",
       "      <td>0</td>\n",
       "      <td>NaN</td>\n",
       "      <td>NaN</td>\n",
       "      <td>NaN</td>\n",
       "      <td>en</td>\n",
       "      <td>NaN</td>\n",
       "    </tr>\n",
       "    <tr>\n",
       "      <th>2</th>\n",
       "      <td>35722a754ae8192dcbcd7ba3640efab6dff0c3d13ef03e...</td>\n",
       "      <td>common_voice_en_28322368.mp3</td>\n",
       "      <td>And this is where we find the roots of the ear...</td>\n",
       "      <td>2</td>\n",
       "      <td>0</td>\n",
       "      <td>NaN</td>\n",
       "      <td>NaN</td>\n",
       "      <td>NaN</td>\n",
       "      <td>en</td>\n",
       "      <td>NaN</td>\n",
       "    </tr>\n",
       "  </tbody>\n",
       "</table>\n",
       "</div>"
      ],
      "text/plain": [
       "                                           client_id  \\\n",
       "0  35722a754ae8192dcbcd7ba3640efab6dff0c3d13ef03e...   \n",
       "1  35722a754ae8192dcbcd7ba3640efab6dff0c3d13ef03e...   \n",
       "2  35722a754ae8192dcbcd7ba3640efab6dff0c3d13ef03e...   \n",
       "\n",
       "                           path  \\\n",
       "0  common_voice_en_28322365.mp3   \n",
       "1  common_voice_en_28322367.mp3   \n",
       "2  common_voice_en_28322368.mp3   \n",
       "\n",
       "                                            sentence  up_votes  down_votes  \\\n",
       "0  Feeling threatened by these actions, the Moros...         2           0   \n",
       "1            King, Big Joe Williams, and Ace Atkins.         2           0   \n",
       "2  And this is where we find the roots of the ear...         2           0   \n",
       "\n",
       "   age gender accents locale  segment  \n",
       "0  NaN    NaN     NaN     en      NaN  \n",
       "1  NaN    NaN     NaN     en      NaN  \n",
       "2  NaN    NaN     NaN     en      NaN  "
      ]
     },
     "execution_count": 1,
     "metadata": {},
     "output_type": "execute_result"
    }
   ],
   "source": [
    "\n",
    "import pandas as pd\n",
    "\n",
    "path = \"/root/Desktop/cv-corpus-9.0-2022-04-27/en/train.tsv\"\n",
    "df = pd.read_csv(path, sep='\\t')\n",
    "df.head(3)\n"
   ]
  },
  {
   "cell_type": "markdown",
   "id": "6d7a9c47",
   "metadata": {},
   "source": [
    "#### Load paths and wavs:"
   ]
  },
  {
   "cell_type": "code",
   "execution_count": 2,
   "id": "9cd709c5",
   "metadata": {},
   "outputs": [],
   "source": [
    "\n",
    "import os\n",
    "\n",
    "wavs = \"/root/Desktop/wavs\"\n",
    "converted = [i for i in os.listdir(wavs)]\n",
    "samples = df[\"path\"].values\n",
    "samples = samples[: ]\n",
    "sample2text = {k: v for k, v in zip(df[\"path\"].values, df[\"sentence\"].values)} \n",
    "\n"
   ]
  },
  {
   "cell_type": "markdown",
   "id": "6f56892f",
   "metadata": {},
   "source": [
    "#### Text and path:"
   ]
  },
  {
   "cell_type": "code",
   "execution_count": 3,
   "id": "f4931975",
   "metadata": {},
   "outputs": [
    {
     "name": "stdout",
     "output_type": "stream",
     "text": [
      "Starting on 16 cores\n",
      "Found:  397792\n"
     ]
    }
   ],
   "source": [
    "\n",
    "import re\n",
    "from multiprocessing import Pool, cpu_count\n",
    "\n",
    "\n",
    "def text_filter(text):\n",
    "    text = text.lower()\n",
    "    text = re.sub(\"[^\\w ']\", \" \", text)\n",
    "    text = re.sub(\" +\", \" \", text)\n",
    "    return text.strip()\n",
    "\n",
    "\n",
    "def function(n):\n",
    "    path = os.path.join(wavs, n.replace('mp3', 'wav'))\n",
    "    if os.path.exists(path):\n",
    "        return path, text_filter(sample2text[n]) \n",
    "\n",
    "    \n",
    "print(f'Starting on {cpu_count()} cores')\n",
    "\n",
    "with Pool() as pool:\n",
    "    res = pool.map(function, samples)\n",
    "\n",
    "res = [i for i in res if i]\n",
    "print(\"Found: \", len(res))\n",
    "\n"
   ]
  },
  {
   "cell_type": "markdown",
   "id": "5f8afee1",
   "metadata": {},
   "source": [
    "#### Play random sample:"
   ]
  },
  {
   "cell_type": "code",
   "execution_count": 4,
   "id": "7c2e892f",
   "metadata": {},
   "outputs": [
    {
     "name": "stdout",
     "output_type": "stream",
     "text": [
      "Play sample: myrdal wanted to combine and integrate the two extremes\n"
     ]
    },
    {
     "name": "stderr",
     "output_type": "stream",
     "text": [
      "Input #0, wav, from '/tmp/tmpmyysacjz.wav':   0KB sq=    0B f=0/0   \n",
      "  Duration: 00:00:05.66, bitrate: 256 kb/s\n",
      "  Stream #0:0: Audio: pcm_s16le ([1][0][0][0] / 0x0001), 16000 Hz, 1 channels, s16, 256 kb/s\n",
      "   5.50 M-A:  0.000 fd=   0 aq=    0KB vq=    0KB sq=    0B f=0/0   \r"
     ]
    },
    {
     "name": "stdout",
     "output_type": "stream",
     "text": [
      "\n"
     ]
    },
    {
     "name": "stderr",
     "output_type": "stream",
     "text": [
      "   5.53 M-A: -0.000 fd=   0 aq=    0KB vq=    0KB sq=    0B f=0/0   \r",
      "   5.56 M-A: -0.000 fd=   0 aq=    0KB vq=    0KB sq=    0B f=0/0   \r"
     ]
    }
   ],
   "source": [
    "\n",
    "import os\n",
    "from random import choice\n",
    "from pydub import AudioSegment\n",
    "from pydub.playback import play\n",
    "\n",
    "\n",
    "sample = choice(res)\n",
    "audio_segment = AudioSegment.from_wav(os.path.join(wavs, sample[0]))\n",
    "print(f\"Play sample: {sample[1]}\")\n",
    "play(audio_segment)\n"
   ]
  },
  {
   "cell_type": "markdown",
   "id": "64f8e58c",
   "metadata": {},
   "source": [
    "#### Writing the output:"
   ]
  },
  {
   "cell_type": "code",
   "execution_count": 9,
   "id": "48cc0403",
   "metadata": {},
   "outputs": [],
   "source": [
    "import re\n",
    "import csv\n",
    "\n",
    "# wav_filename,wav_filesize,transcript\n",
    "\n",
    "def make_csv(path, data):\n",
    "    with open(path, 'w', newline='') as csvfile:\n",
    "        fieldnames = ['wav_filename' ,'wav_filesize' , 'transcript']\n",
    "        writer = csv.DictWriter(csvfile, fieldnames=fieldnames)\n",
    "        writer.writeheader()\n",
    "        for c, (x, y) in enumerate(data):\n",
    "            writer.writerow({\n",
    "                'wav_filename': x,\n",
    "                'wav_filesize': os.stat(x).st_size,\n",
    "                'transcript': y,\n",
    "            })\n",
    "            os.system(f\"cp {x} /root/Desktop/test\")\n",
    "            if c == 20:\n",
    "                break\n",
    "            \n",
    "        \n",
    "train = res[: - int(len(res) * 0.2)]\n",
    "test = res[- int(len(res) * 0.2): ]\n",
    "\n",
    "make_csv(\"/root/Desktop/train.csv\", train)\n",
    "make_csv(\"/root/Desktop/test.csv\", test)"
   ]
  },
  {
   "cell_type": "code",
   "execution_count": null,
   "id": "7bea51b9",
   "metadata": {},
   "outputs": [],
   "source": []
  }
 ],
 "metadata": {
  "kernelspec": {
   "display_name": "Python 3 (ipykernel)",
   "language": "python",
   "name": "python3"
  },
  "language_info": {
   "codemirror_mode": {
    "name": "ipython",
    "version": 3
   },
   "file_extension": ".py",
   "mimetype": "text/x-python",
   "name": "python",
   "nbconvert_exporter": "python",
   "pygments_lexer": "ipython3",
   "version": "3.9.7"
  }
 },
 "nbformat": 4,
 "nbformat_minor": 5
}
